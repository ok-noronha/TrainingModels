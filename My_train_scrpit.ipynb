{
 "cells": [
  {
   "cell_type": "code",
   "execution_count": 1,
   "id": "7d52d1ef",
   "metadata": {},
   "outputs": [
    {
     "name": "stdout",
     "output_type": "stream",
     "text": [
      "^C\n",
      "Note: you may need to restart the kernel to use updated packages.\n"
     ]
    }
   ],
   "source": [
    "%pip install --ignore-installed --upgrade tensorflow"
   ]
  },
  {
   "cell_type": "code",
   "execution_count": null,
   "id": "9d1679db",
   "metadata": {},
   "outputs": [],
   "source": [
    "#verify tf installation\n",
    "import tensorflow as tf;print(tf.reduce_sum(tf.random.normal([1000, 1000])))"
   ]
  },
  {
   "cell_type": "code",
   "execution_count": null,
   "id": "6b4b9aca",
   "metadata": {},
   "outputs": [],
   "source": [
    "#protobuf compilation\n",
    "%cd C:\\Users\\oknor\\Documents\\Programming\\TrainingModels\\TensorFlow\\models\\research\n",
    "%protoc object_detection/protos/*.proto --python_out=."
   ]
  },
  {
   "cell_type": "code",
   "execution_count": null,
   "id": "37ac0e8d",
   "metadata": {},
   "outputs": [],
   "source": [
    "#object detection API installation\n",
    "%cp object_detection/packages/tf2/setup.py.\n",
    "%python -m pip install --use-feature=2020-resolver."
   ]
  },
  {
   "cell_type": "code",
   "execution_count": null,
   "id": "467c161d",
   "metadata": {},
   "outputs": [],
   "source": [
    "#testing installation\n",
    "%python object_detection/builders/model_builder_tf2_test.py"
   ]
  },
  {
   "cell_type": "code",
   "execution_count": null,
   "id": "2df2767b",
   "metadata": {},
   "outputs": [],
   "source": [
    "#Resizing the images to a final size of 320x320.\n",
    "from PIL import Image\n",
    "import os, sys\n",
    "\n",
    "path = \"C:\\\\Users\\\\oknor\\\\Documents\\\\Programming\\\\TrainingModels\\\\TensorFlow\\\\workspace\\\\car_training\\\\images\\\\\"\n",
    "dirs = os.listdir( path )\n",
    "final_size = 320;\n",
    "\n",
    "def resize(asr):\n",
    "    count=0\n",
    "    for item in dirs:\n",
    "\n",
    "        if os.path.isfile(path+item):\n",
    "            f, e = os.path.splitext(item)\n",
    "            if(f=='resize'):\n",
    "                continue\n",
    "            im = Image.open(path+item)\n",
    "            size = im.size\n",
    "            ratio = float(final_size) / max(size)\n",
    "            new_image_size = tuple([int(x*ratio) for x in size])\n",
    "            imResize = im.resize(new_image_size, Image.ANTIALIAS)\n",
    "            imRGB= Image.new('RGB', (final_size, final_size), (255, 255, 255))\n",
    "            imRGB.paste(imResize, ((final_size-new_image_size[0])//2, (final_size-new_image_size[1])//2))\n",
    "            if count%9==0 :\n",
    "                imRGB.save(path+\"test\\\\car_%3d.jpg\"%count, 'JPEG', quality=90)\n",
    "            else:\n",
    "                imRGB.save(path+\"train\\\\car_%3d.jpg\"%count, 'JPEG', quality=90)\n",
    "            count+=1\n",
    "        else:\n",
    "            print (\"Could not find\")\n",
    "\n",
    "resize(True)"
   ]
  },
  {
   "cell_type": "code",
   "execution_count": 3,
   "id": "f42bf7f4",
   "metadata": {},
   "outputs": [
    {
     "name": "stderr",
     "output_type": "stream",
     "text": [
      "python: can't open file 'c:\\\\Users\\\\oknor\\\\Documents\\\\Programming\\\\TrainingModels\\\\labelImg.py': [Errno 2] No such file or directory\n"
     ]
    }
   ],
   "source": [
    "\n",
    "#annotate images using labelImg\n",
    "%cd C:\\Users\\oknor\\Documents\\Programming\\TrainingModels\\TensorFlow\\addons\n",
    "%python labelImg.py \n",
    "%python labelImg.py"
   ]
  },
  {
   "cell_type": "code",
   "execution_count": null,
   "id": "112ef331",
   "metadata": {},
   "outputs": [],
   "source": [
    "#Creating a record file for the training and test images.\n",
    "%cd C:\\Users\\oknor\\Documents\\Programming\\TrainingModels\\TensorFlow\\scripts\\preprocessing\n",
    "%python generate_tfrecord.py -x C:\\Users\\oknor\\Documents\\Programming\\TrainingModels\\TensorFlow\\workspace\\car_training\\images\\train -l C:\\Users\\oknor\\Documents\\Programming\\TrainingModels\\TensorFlow\\workspace\\car_training\\annotations\\label_map.pbtxt -o C:\\Users\\oknor\\Documents\\Programming\\TrainingModels\\TensorFlow\\workspace\\car_training\\annotations\\train.record\n",
    "%python generate_tfrecord.py -x C:\\Users\\oknor\\Documents\\Programming\\TrainingModels\\TensorFlow\\workspace\\car_training\\images\\test -l C:\\Users\\oknor\\Documents\\Programming\\TrainingModels\\TensorFlow\\workspace\\car_training\\annotations\\label_map.pbtxt -o C:\\Users\\oknor\\Documents\\Programming\\TrainingModels\\TensorFlow\\workspace\\car_training\\annotations\\test.record"
   ]
  },
  {
   "cell_type": "code",
   "execution_count": null,
   "id": "65abc818",
   "metadata": {},
   "outputs": [],
   "source": [
    "%cd C:\\Users\\oknor\\Documents\\Programming\\TrainingModels\\TensorFlow\\workspace\\car_training\n",
    "%python model_main_tf2.py --model_dir=models/mobnetv2_car --pipeline_config_path=models/mobnetv2_car/pipeline.config"
   ]
  }
 ],
 "metadata": {
  "kernelspec": {
   "display_name": "Python 3.10.2 64-bit",
   "language": "python",
   "name": "python3"
  },
  "language_info": {
   "codemirror_mode": {
    "name": "ipython",
    "version": 3
   },
   "file_extension": ".py",
   "mimetype": "text/x-python",
   "name": "python",
   "nbconvert_exporter": "python",
   "pygments_lexer": "ipython3",
   "version": "3.10.7"
  },
  "vscode": {
   "interpreter": {
    "hash": "26de051ba29f2982a8de78e945f0abaf191376122a1563185a90213a26c5da77"
   }
  }
 },
 "nbformat": 4,
 "nbformat_minor": 5
}
